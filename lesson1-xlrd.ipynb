{
 "cells": [
  {
   "cell_type": "code",
   "execution_count": 2,
   "metadata": {
    "collapsed": true
   },
   "outputs": [],
   "source": [
    "import xlrd"
   ]
  },
  {
   "cell_type": "code",
   "execution_count": 3,
   "metadata": {
    "collapsed": true
   },
   "outputs": [],
   "source": [
    "datafile = \"2013_ERCOT_Hourly_Load_Data.xls\""
   ]
  },
  {
   "cell_type": "code",
   "execution_count": 13,
   "metadata": {
    "collapsed": true
   },
   "outputs": [],
   "source": [
    "def parse_file(datafile):\n",
    "    workbook = xlrd.open_workbook(datafile)\n",
    "    sheet = workbook.sheet_by_index(0)\n",
    "    \n",
    "    data = [[sheet.cell_value(r,col)\n",
    "                for col in range(sheet.ncols)]\n",
    "                   for r in range(sheet.nrows)]\n",
    "    print('\\nlist')\n",
    "    print('data[3][2]')\n",
    "    print(data[3][2])\n",
    "    print(sheet.nrows,sheet.ncols)\n",
    "    print('get a slice of values in column 4 from rows 2-5:')\n",
    "    print(sheet.col_values(4,start_rowx = 2,end_rowx = 6))\n",
    "    \n",
    "    print('\\nDates')\n",
    "    print('type of data uin cell (row 1,col 0):')\n",
    "    print(sheet.cell_type(1,0))\n",
    "    excel_time = sheet.cell_value(1,0)\n",
    "    print(\"convert time in python datetime tuple from excel float:\")\n",
    "    print(xlrd.xldate_as_tuple(excel_time,0))"
   ]
  },
  {
   "cell_type": "code",
   "execution_count": 14,
   "metadata": {},
   "outputs": [
    {
     "name": "stdout",
     "output_type": "stream",
     "text": [
      "\n",
      "list\n",
      "data[3][2]\n",
      "1036.088697\n",
      "(7296, 10)\n",
      "get a slice of values in column 4 from rows 2-5:\n",
      "[776.3073870000006, 768.1257480000011, 770.9379689999979, 779.0893130000002]\n",
      "\n",
      "Dates\n",
      "type of data uin cell (row 1,col 0):\n",
      "3\n",
      "convert time in python datetime tuple from excel float:\n",
      "(2013, 1, 1, 1, 0, 0)\n"
     ]
    }
   ],
   "source": [
    "parse_file(datafile)"
   ]
  },
  {
   "cell_type": "code",
   "execution_count": null,
   "metadata": {
    "collapsed": true
   },
   "outputs": [],
   "source": []
  }
 ],
 "metadata": {
  "kernelspec": {
   "display_name": "Python 2",
   "language": "python",
   "name": "python2"
  },
  "language_info": {
   "codemirror_mode": {
    "name": "ipython",
    "version": 2
   },
   "file_extension": ".py",
   "mimetype": "text/x-python",
   "name": "python",
   "nbconvert_exporter": "python",
   "pygments_lexer": "ipython2",
   "version": "2.7.13"
  }
 },
 "nbformat": 4,
 "nbformat_minor": 2
}
